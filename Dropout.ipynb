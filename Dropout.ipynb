{
 "cells": [
  {
   "cell_type": "code",
   "execution_count": 1,
   "metadata": {},
   "outputs": [
    {
     "name": "stdout",
     "output_type": "stream",
     "text": [
      "x_train shape: (60000, 28, 28)\n",
      "60000 train samples\n",
      "10000 test samples\n"
     ]
    }
   ],
   "source": [
    "from __future__ import print_function\n",
    "import tensorflow.keras as keras\n",
    "from tensorflow.keras.datasets import mnist\n",
    "from tensorflow.keras.models import Sequential\n",
    "from tensorflow.keras.layers import Dense, Dropout, Flatten\n",
    "from tensorflow.keras.layers import Conv2D, MaxPooling2D\n",
    "from tensorflow.keras import backend as K\n",
    "import time\n",
    "from PIL import Image as pil_image\n",
    "from tensorflow.keras.preprocessing.image import save_img\n",
    "from tensorflow.keras import layers\n",
    "from tensorflow.keras.models import load_model\n",
    "from tensorflow.keras.layers import BatchNormalization\n",
    "\n",
    "\n",
    "\n",
    "start_time = time.time()\n",
    "\n",
    "batch_size = 128\n",
    "num_classes = 10\n",
    "epochs = 10\n",
    "\n",
    "# input image dimensions\n",
    "img_rows, img_cols = 28, 28\n",
    "\n",
    "# the data, shuffled and split between train and test sets\n",
    "(x_train, y_train), (x_test, y_test) = mnist.load_data()\n",
    "\n",
    "\n",
    "\n",
    "x_train = x_train.astype('float32')\n",
    "x_test = x_test.astype('float32')\n",
    "x_train /= 255\n",
    "x_test /= 255\n",
    "print('x_train shape:', x_train.shape)\n",
    "print(x_train.shape[0], 'train samples')\n",
    "print(x_test.shape[0], 'test samples')\n",
    "\n",
    "# convert class vectors to binary class matrices\n",
    "y_train = keras.utils.to_categorical(y_train, num_classes)\n",
    "y_test = keras.utils.to_categorical(y_test, num_classes)\n",
    "\n",
    "\n",
    "if K.image_data_format() == 'channels_first':\n",
    "    x_train = x_train.reshape(x_train.shape[0], 1,img_rows, img_cols)\n",
    "    x_test = x_test.reshape(x_test.shape[0], 1,img_rows, img_cols)\n",
    "    input_img = (1,img_rows, img_cols)\n",
    "else:\n",
    "    x_train = x_train.reshape(x_train.shape[0], img_rows, img_cols, 1)\n",
    "    x_test = x_test.reshape(x_test.shape[0], img_rows, img_cols, 1)\n",
    "    input_img = (img_rows, img_cols, 1)\n",
    "\n"
   ]
  },
  {
   "cell_type": "code",
   "execution_count": 2,
   "metadata": {},
   "outputs": [
    {
     "name": "stdout",
     "output_type": "stream",
     "text": [
      "WARNING:tensorflow:From c:\\users\\giovanni\\appdata\\local\\programs\\python\\python35\\lib\\site-packages\\tensorflow\\python\\ops\\resource_variable_ops.py:435: colocate_with (from tensorflow.python.framework.ops) is deprecated and will be removed in a future version.\n",
      "Instructions for updating:\n",
      "Colocations handled automatically by placer.\n",
      "WARNING:tensorflow:From c:\\users\\giovanni\\appdata\\local\\programs\\python\\python35\\lib\\site-packages\\tensorflow\\python\\keras\\layers\\core.py:143: calling dropout (from tensorflow.python.ops.nn_ops) with keep_prob is deprecated and will be removed in a future version.\n",
      "Instructions for updating:\n",
      "Please use `rate` instead of `keep_prob`. Rate should be set to `rate = 1 - keep_prob`.\n"
     ]
    }
   ],
   "source": [
    "\n",
    "\n",
    "model_2 = Sequential([\n",
    "    Conv2D(32, kernel_size=(3, 3),\n",
    "    activation='relu',\n",
    "    input_shape=input_img , padding = 'same'),\n",
    "    BatchNormalization(),\n",
    "    Conv2D(64, (3, 3), activation='relu', padding = 'same'),\n",
    "    MaxPooling2D(pool_size=(2, 2)),\n",
    "    Dropout(0.25), # I removed this layer to showcase the Training and Validation Loss/Accuracy graph in the report\n",
    "    Flatten(),\n",
    "    Dense(128, activation='relu'),\n",
    "    Dropout(0.5), # I removed this layer to showcase the Training and Validation Loss/Accuracy graph in the report\n",
    "    Dense(num_classes, activation='softmax'),\n",
    "    ], name = 'No Dropout')\n",
    "\n",
    "model_1 = [model_2]"
   ]
  },
  {
   "cell_type": "code",
   "execution_count": 3,
   "metadata": {},
   "outputs": [
    {
     "name": "stdout",
     "output_type": "stream",
     "text": [
      "Train on 60000 samples, validate on 10000 samples\n",
      "WARNING:tensorflow:From c:\\users\\giovanni\\appdata\\local\\programs\\python\\python35\\lib\\site-packages\\tensorflow\\python\\ops\\math_ops.py:3066: to_int32 (from tensorflow.python.ops.math_ops) is deprecated and will be removed in a future version.\n",
      "Instructions for updating:\n",
      "Use tf.cast instead.\n",
      "Epoch 1/10\n",
      "60000/60000 [==============================] - 648s 11ms/sample - loss: 0.3714 - acc: 0.8900 - val_loss: 0.1694 - val_acc: 0.9808\n",
      "Epoch 2/10\n",
      "60000/60000 [==============================] - 410s 7ms/sample - loss: 0.1049 - acc: 0.9696 - val_loss: 0.0460 - val_acc: 0.9845\n",
      "Epoch 3/10\n",
      "60000/60000 [==============================] - 332s 6ms/sample - loss: 0.0723 - acc: 0.9789 - val_loss: 0.0358 - val_acc: 0.9885\n",
      "Epoch 4/10\n",
      "60000/60000 [==============================] - 332s 6ms/sample - loss: 0.0573 - acc: 0.9829 - val_loss: 0.0341 - val_acc: 0.9892\n",
      "Epoch 5/10\n",
      "60000/60000 [==============================] - 338s 6ms/sample - loss: 0.0460 - acc: 0.9865 - val_loss: 0.0318 - val_acc: 0.9893\n",
      "Epoch 6/10\n",
      "60000/60000 [==============================] - 332s 6ms/sample - loss: 0.0392 - acc: 0.9885 - val_loss: 0.0357 - val_acc: 0.9877\n",
      "Epoch 7/10\n",
      "60000/60000 [==============================] - 332s 6ms/sample - loss: 0.0357 - acc: 0.9890 - val_loss: 0.0309 - val_acc: 0.9905\n",
      "Epoch 8/10\n",
      "60000/60000 [==============================] - 412s 7ms/sample - loss: 0.0326 - acc: 0.9901 - val_loss: 0.0293 - val_acc: 0.9906\n",
      "Epoch 9/10\n",
      "60000/60000 [==============================] - 335s 6ms/sample - loss: 0.0281 - acc: 0.9914 - val_loss: 0.0324 - val_acc: 0.9912\n",
      "Epoch 10/10\n",
      "60000/60000 [==============================] - 336s 6ms/sample - loss: 0.0266 - acc: 0.9921 - val_loss: 0.0283 - val_acc: 0.9914\n"
     ]
    }
   ],
   "source": [
    "import matplotlib.pyplot as plt\n",
    "\n",
    "history_dict = {}\n",
    "\n",
    "for model in model_1:\n",
    "    model.compile(loss='categorical_crossentropy',\n",
    "              optimizer=keras.optimizers.Adadelta(),\n",
    "              metrics=['accuracy'])\n",
    "    history = model.fit(x_train, y_train,\n",
    "          batch_size=batch_size,\n",
    "          epochs=epochs,\n",
    "          verbose=1,\n",
    "          validation_data=(x_test, y_test))\n",
    "    history_dict[model.name] = history\n"
   ]
  },
  {
   "cell_type": "code",
   "execution_count": 4,
   "metadata": {},
   "outputs": [
    {
     "data": {
      "image/png": "[encoded data removed]",
      "text/plain": [
       "<Figure size 432x288 with 1 Axes>"
      ]
     },
     "metadata": {
      "needs_background": "light"
     },
     "output_type": "display_data"
    },
    {
     "data": {
      "image/png": "[encoded data removed]",
      "text/plain": [
       "<Figure size 432x288 with 1 Axes>"
      ]
     },
     "metadata": {
      "needs_background": "light"
     },
     "output_type": "display_data"
    }
   ],
   "source": [
    "import pickle\n",
    "\n",
    "\n",
    "def smooth_curve(points, factor=0.8):\n",
    "    smoothed = []\n",
    "    for point in points:\n",
    "        if smoothed:\n",
    "            previous = smoothed[-1]\n",
    "            smoothed.append(previous * factor + point * (1 - factor))\n",
    "        else:\n",
    "            smoothed.append(point)\n",
    "    return smoothed\n",
    "\n",
    "\n",
    "def plot_compare(history, steps=-1):\n",
    "    if steps < 0:\n",
    "        steps = len(history.history['acc'])\n",
    "    acc = smooth_curve(history.history['acc'][:steps])\n",
    "    val_acc = smooth_curve(history.history['val_acc'][:steps])\n",
    "    loss = smooth_curve(history.history['loss'][:steps])\n",
    "    val_loss = smooth_curve(history.history['val_loss'][:steps])\n",
    "    \n",
    "    plt.figure(figsize=(6, 4))\n",
    "    plt.plot(loss, c='#0c7cba', label='Train Loss')\n",
    "    plt.plot(val_loss, c='#0f9d58', label='Val Loss')\n",
    "    plt.xticks(range(0, len(loss), 5))\n",
    "    plt.xlim(0, len(loss))\n",
    "    plt.title('Train Loss: %.3f, Val Loss: %.3f' % (loss[-1], val_loss[-1]), fontsize=12)\n",
    "    plt.legend()\n",
    "    \n",
    "    plt.figure(figsize=(6, 4))\n",
    "    plt.plot(acc, c='#0c7cba', label='Train Acc')\n",
    "    plt.plot(val_acc, c='#0f9d58', label='Val Acc')\n",
    "    plt.xticks(range(0, len(acc), 5))\n",
    "    plt.xlim(0, len(acc))\n",
    "    plt.title('Train Accuracy: %.3f, Val Accuracy: %.3f' % (acc[-1], val_acc[-1]), fontsize=12)\n",
    "    plt.legend()\n",
    "\n",
    "\n",
    "def save_history(history, fn):\n",
    "    with open(fn, 'wb') as fw:\n",
    "        pickle.dump(history.history, fw, protocol=2)\n",
    "\n",
    "\n",
    "\n",
    "\n",
    "\n",
    "model.save('model.h5')\n",
    "save_history(history, 'history.bin')\n",
    "plot_compare(history)"
   ]
  },
  {
   "cell_type": "code",
   "execution_count": null,
   "metadata": {},
   "outputs": [],
   "source": []
  }
 ],
 "metadata": {
  "kernelspec": {
   "display_name": "Python 3",
   "language": "python",
   "name": "python3"
  },
  "language_info": {
   "codemirror_mode": {
    "name": "ipython",
    "version": 3
   },
   "file_extension": ".py",
   "mimetype": "text/x-python",
   "name": "python",
   "nbconvert_exporter": "python",
   "pygments_lexer": "ipython3",
   "version": "3.5.2"
  }
 },
 "nbformat": 4,
 "nbformat_minor": 2
}
